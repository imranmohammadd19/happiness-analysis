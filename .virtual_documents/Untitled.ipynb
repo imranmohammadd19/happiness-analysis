# 📊 Summary of Findings: World Happiness Data (2015)

## 🌍 Objective
Analyze global happiness levels and uncover how economic, social, and health factors affect happiness.

---

## 🥇 Top Findings

### 1. 🌟 Happiest Countries:
- The top 5 happiest countries are **Switzerland**, **Iceland**, **Denmark**, **Norway**, and **Canada**.
- These countries had consistently high scores across all major factors: GDP, health, freedom, and trust.

### 2. 😔 Least Happy Countries:
- The bottom 5 include **Togo**, **Burundi**, **Syria**, **Benin**, and **Rwanda**.
- They tend to score low on GDP per capita and health expectancy.

---

## 📌 Key Factors Affecting Happiness (Correlation Insights):

| Factor                        | Correlation with Happiness |
|------------------------------|-----------------------------|
| Economy (GDP per Capita)     | Strong positive             |
| Health (Life Expectancy)     | Strong positive             |
| Freedom                      | Moderate positive           |
| Trust in Government          | Weak to moderate positive   |
| Generosity                   | Weak positive               |

- **GDP and Health** are the most influential contributors to happiness.

---

## 🌍 Regional Comparison

- **Western Europe** has the highest average happiness score.
- **Sub-Saharan Africa** ranks the lowest.
- This suggests significant regional inequality in well-being.

---

## 📈 Visual Summary Highlights

- **Bar plots** showed clear separation between happy and less happy countries.
- **Heatmaps** revealed strong positive correlations between economy, health, and happiness.
- **Plotly scatter plot** helped visualize how happiness increases with GDP, especially for countries with higher health scores.

---

## 📚 Learnings + What’s Next

- Happiness is clearly influenced by multiple dimensions, not just money.
- For deeper insights, we could:
  - Analyze **year-over-year trends** if data was multi-year.
  - Collect more recent data (e.g., post-pandemic changes).
  - Explore **machine learning models** to predict happiness based on features.

---

## 🛠️ Tools Used:
- JupyterLab
- Pandas, NumPy
- Matplotlib, Seaborn
- Plotly for interactivity

---

## ✅ Conclusion:
This analysis helped reinforce your understanding of EDA, visualization, and the importance of thinking **logically about the relationships** in data — not just plotting them blindly.




import pandas as pd

df = pd.read_csv('world_happiness.csv')



import matplotlib.pyplot as plt
import seaborn as sns



plt.figure(figsize=(10, 6))
sns.scatterplot(
    data=df,
    x='Economy (GDP per Capita)',
    y='Happiness Score',
    hue='Region',
    palette='Set2'
)
plt.title('GDP vs. Happiness Score by Region')
plt.xlabel('Economy (GDP per Capita)')
plt.ylabel('Happiness Score')
plt.legend(bbox_to_anchor=(1.05, 1), loc='upper left')
plt.tight_layout()
plt.show()




df.columns







